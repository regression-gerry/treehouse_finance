{
 "cells": [
  {
   "cell_type": "code",
   "execution_count": 19,
   "source": [
    "## Libraries\r\n",
    "import pandas as pd\r\n",
    "import numpy as np"
   ],
   "outputs": [],
   "metadata": {}
  },
  {
   "cell_type": "markdown",
   "source": [
    "### 2. Write a function ‘exists’ which takes a variable symbol v and returns whether v is defined."
   ],
   "metadata": {}
  },
  {
   "cell_type": "code",
   "execution_count": 2,
   "source": [
    "try:\r\n",
    "    var\r\n",
    "except NameError:\r\n",
    "    print('v is not defined')\r\n",
    "else:\r\n",
    "    print(\"exists\")"
   ],
   "outputs": [],
   "metadata": {}
  },
  {
   "cell_type": "markdown",
   "source": [
    "### 3. Create a function to compute N layer of a Pascal Triangle. "
   ],
   "metadata": {}
  },
  {
   "cell_type": "code",
   "execution_count": 26,
   "source": [
    "def pascal_triangle(n):\r\n",
    "    pascal = [[1]*(i+1) for i in range(n)] # set the initial layer\r\n",
    "    \r\n",
    "    # O(n^2)\r\n",
    "    for i in range(n):\r\n",
    "        for j in range(1,i):\r\n",
    "            pascal[i][j] = pascal[i-1][j-1] + pascal[i-1][j]\r\n",
    "    return pascal"
   ],
   "outputs": [],
   "metadata": {}
  },
  {
   "cell_type": "code",
   "execution_count": 50,
   "source": [
    "# test cases for pascal triangle\r\n",
    "pascal_triangle(10)\r\n",
    "# pascal_triangle(20)"
   ],
   "outputs": [
    {
     "output_type": "execute_result",
     "data": {
      "text/plain": [
       "[[1],\n",
       " [1, 1],\n",
       " [1, 2, 1],\n",
       " [1, 3, 3, 1],\n",
       " [1, 4, 6, 4, 1],\n",
       " [1, 5, 10, 10, 5, 1],\n",
       " [1, 6, 15, 20, 15, 6, 1],\n",
       " [1, 7, 21, 35, 35, 21, 7, 1],\n",
       " [1, 8, 28, 56, 70, 56, 28, 8, 1],\n",
       " [1, 9, 36, 84, 126, 126, 84, 36, 9, 1]]"
      ]
     },
     "metadata": {},
     "execution_count": 50
    }
   ],
   "metadata": {}
  },
  {
   "cell_type": "markdown",
   "source": [
    "### 4. Assume have the following portfolio as of 2016/01/01:\r\n",
    "    AAPL.O 15%\r\n",
    "    IBM.N 20%\r\n",
    "    GOOG.O 20%\r\n",
    "    BP.N 15%\r\n",
    "    XOM.N 10%\r\n",
    "    COST.O 15%\r\n",
    "    GS.N 5%\r\n",
    "\r\n",
    "a. Using historical daily returns (Yahoo/Google Finance or any other market data\r\n",
    "source), calculate VaR95% and CVaR95% of the portfolio as of 2016/12/31\r\n",
    "\r\n",
    "b. Using expected mean, covariance matrix and parametric method, calculate VaR95%\r\n",
    "and CVaR95%\r\n",
    "\r\n",
    "c. Assume you can change weights, allow shorting but no leverage (i.e. sum of weights\r\n",
    "equal 100%), and rebalance monthly. What is the optimal portfolio holding by end of\r\n",
    "each month till end of 2016\r\n",
    "Notes: If you have other assumption(s) please state clearly"
   ],
   "metadata": {}
  },
  {
   "cell_type": "markdown",
   "source": [],
   "metadata": {}
  },
  {
   "cell_type": "code",
   "execution_count": 47,
   "source": [
    "portfolio = pd.read_csv('portfolio.csv')\r\n",
    "portfolio['date'] = pd.to_datetime(portfolio['date'], format='%d/%m/%Y')\r\n",
    "portfolio.iloc[:, 1:8] = portfolio.iloc[:, 1:8].pct_change(1) # daily returns"
   ],
   "outputs": [],
   "metadata": {}
  },
  {
   "cell_type": "markdown",
   "source": [],
   "metadata": {}
  },
  {
   "cell_type": "code",
   "execution_count": 48,
   "source": [
    "portfolio"
   ],
   "outputs": [
    {
     "output_type": "execute_result",
     "data": {
      "text/plain": [
       "          date      aapl       ibm      goog        bp       xom      cost  \\\n",
       "0   2016-01-04       NaN       NaN       NaN       NaN       NaN       NaN   \n",
       "1   2016-01-05 -0.025057 -0.000736  0.000998 -0.004185  0.008521  0.002445   \n",
       "2   2016-01-06 -0.019470 -0.005006  0.001401 -0.020369 -0.008321 -0.009254   \n",
       "3   2016-01-07 -0.042494 -0.017090 -0.023170 -0.028713 -0.016006 -0.022909   \n",
       "4   2016-01-08  0.005392 -0.009258 -0.016410 -0.017669 -0.020202 -0.017504   \n",
       "..         ...       ...       ...       ...       ...       ...       ...   \n",
       "247 2016-12-23  0.002064 -0.002095 -0.001706  0.002980 -0.001761  0.000062   \n",
       "248 2016-12-27  0.006522  0.002579  0.002076  0.002431  0.000441 -0.000185   \n",
       "249 2016-12-28 -0.004434 -0.005684 -0.008212  0.003773 -0.004959 -0.006418   \n",
       "250 2016-12-29 -0.000343  0.002467 -0.002879  0.004027  0.000554  0.000745   \n",
       "251 2016-12-30 -0.007539 -0.003661 -0.014014 -0.000535 -0.000996 -0.006330   \n",
       "\n",
       "           gs  \n",
       "0         NaN  \n",
       "1   -0.017218  \n",
       "2   -0.024413  \n",
       "3   -0.030735  \n",
       "4   -0.004131  \n",
       "..        ...  \n",
       "247  0.003540  \n",
       "248  0.002448  \n",
       "249 -0.003767  \n",
       "250 -0.010264  \n",
       "251  0.005332  \n",
       "\n",
       "[252 rows x 8 columns]"
      ],
      "text/html": [
       "<div>\n",
       "<style scoped>\n",
       "    .dataframe tbody tr th:only-of-type {\n",
       "        vertical-align: middle;\n",
       "    }\n",
       "\n",
       "    .dataframe tbody tr th {\n",
       "        vertical-align: top;\n",
       "    }\n",
       "\n",
       "    .dataframe thead th {\n",
       "        text-align: right;\n",
       "    }\n",
       "</style>\n",
       "<table border=\"1\" class=\"dataframe\">\n",
       "  <thead>\n",
       "    <tr style=\"text-align: right;\">\n",
       "      <th></th>\n",
       "      <th>date</th>\n",
       "      <th>aapl</th>\n",
       "      <th>ibm</th>\n",
       "      <th>goog</th>\n",
       "      <th>bp</th>\n",
       "      <th>xom</th>\n",
       "      <th>cost</th>\n",
       "      <th>gs</th>\n",
       "    </tr>\n",
       "  </thead>\n",
       "  <tbody>\n",
       "    <tr>\n",
       "      <th>0</th>\n",
       "      <td>2016-01-04</td>\n",
       "      <td>NaN</td>\n",
       "      <td>NaN</td>\n",
       "      <td>NaN</td>\n",
       "      <td>NaN</td>\n",
       "      <td>NaN</td>\n",
       "      <td>NaN</td>\n",
       "      <td>NaN</td>\n",
       "    </tr>\n",
       "    <tr>\n",
       "      <th>1</th>\n",
       "      <td>2016-01-05</td>\n",
       "      <td>-0.025057</td>\n",
       "      <td>-0.000736</td>\n",
       "      <td>0.000998</td>\n",
       "      <td>-0.004185</td>\n",
       "      <td>0.008521</td>\n",
       "      <td>0.002445</td>\n",
       "      <td>-0.017218</td>\n",
       "    </tr>\n",
       "    <tr>\n",
       "      <th>2</th>\n",
       "      <td>2016-01-06</td>\n",
       "      <td>-0.019470</td>\n",
       "      <td>-0.005006</td>\n",
       "      <td>0.001401</td>\n",
       "      <td>-0.020369</td>\n",
       "      <td>-0.008321</td>\n",
       "      <td>-0.009254</td>\n",
       "      <td>-0.024413</td>\n",
       "    </tr>\n",
       "    <tr>\n",
       "      <th>3</th>\n",
       "      <td>2016-01-07</td>\n",
       "      <td>-0.042494</td>\n",
       "      <td>-0.017090</td>\n",
       "      <td>-0.023170</td>\n",
       "      <td>-0.028713</td>\n",
       "      <td>-0.016006</td>\n",
       "      <td>-0.022909</td>\n",
       "      <td>-0.030735</td>\n",
       "    </tr>\n",
       "    <tr>\n",
       "      <th>4</th>\n",
       "      <td>2016-01-08</td>\n",
       "      <td>0.005392</td>\n",
       "      <td>-0.009258</td>\n",
       "      <td>-0.016410</td>\n",
       "      <td>-0.017669</td>\n",
       "      <td>-0.020202</td>\n",
       "      <td>-0.017504</td>\n",
       "      <td>-0.004131</td>\n",
       "    </tr>\n",
       "    <tr>\n",
       "      <th>...</th>\n",
       "      <td>...</td>\n",
       "      <td>...</td>\n",
       "      <td>...</td>\n",
       "      <td>...</td>\n",
       "      <td>...</td>\n",
       "      <td>...</td>\n",
       "      <td>...</td>\n",
       "      <td>...</td>\n",
       "    </tr>\n",
       "    <tr>\n",
       "      <th>247</th>\n",
       "      <td>2016-12-23</td>\n",
       "      <td>0.002064</td>\n",
       "      <td>-0.002095</td>\n",
       "      <td>-0.001706</td>\n",
       "      <td>0.002980</td>\n",
       "      <td>-0.001761</td>\n",
       "      <td>0.000062</td>\n",
       "      <td>0.003540</td>\n",
       "    </tr>\n",
       "    <tr>\n",
       "      <th>248</th>\n",
       "      <td>2016-12-27</td>\n",
       "      <td>0.006522</td>\n",
       "      <td>0.002579</td>\n",
       "      <td>0.002076</td>\n",
       "      <td>0.002431</td>\n",
       "      <td>0.000441</td>\n",
       "      <td>-0.000185</td>\n",
       "      <td>0.002448</td>\n",
       "    </tr>\n",
       "    <tr>\n",
       "      <th>249</th>\n",
       "      <td>2016-12-28</td>\n",
       "      <td>-0.004434</td>\n",
       "      <td>-0.005684</td>\n",
       "      <td>-0.008212</td>\n",
       "      <td>0.003773</td>\n",
       "      <td>-0.004959</td>\n",
       "      <td>-0.006418</td>\n",
       "      <td>-0.003767</td>\n",
       "    </tr>\n",
       "    <tr>\n",
       "      <th>250</th>\n",
       "      <td>2016-12-29</td>\n",
       "      <td>-0.000343</td>\n",
       "      <td>0.002467</td>\n",
       "      <td>-0.002879</td>\n",
       "      <td>0.004027</td>\n",
       "      <td>0.000554</td>\n",
       "      <td>0.000745</td>\n",
       "      <td>-0.010264</td>\n",
       "    </tr>\n",
       "    <tr>\n",
       "      <th>251</th>\n",
       "      <td>2016-12-30</td>\n",
       "      <td>-0.007539</td>\n",
       "      <td>-0.003661</td>\n",
       "      <td>-0.014014</td>\n",
       "      <td>-0.000535</td>\n",
       "      <td>-0.000996</td>\n",
       "      <td>-0.006330</td>\n",
       "      <td>0.005332</td>\n",
       "    </tr>\n",
       "  </tbody>\n",
       "</table>\n",
       "<p>252 rows × 8 columns</p>\n",
       "</div>"
      ]
     },
     "metadata": {},
     "execution_count": 48
    }
   ],
   "metadata": {}
  }
 ],
 "metadata": {
  "orig_nbformat": 4,
  "language_info": {
   "name": "python",
   "version": "3.7.7",
   "mimetype": "text/x-python",
   "codemirror_mode": {
    "name": "ipython",
    "version": 3
   },
   "pygments_lexer": "ipython3",
   "nbconvert_exporter": "python",
   "file_extension": ".py"
  },
  "kernelspec": {
   "name": "python3",
   "display_name": "Python 3.7.7 64-bit ('base': conda)"
  },
  "interpreter": {
   "hash": "bd0568d8647bfe2c5b59c81f47863eb65b413eeef312764b5149d804a4a00697"
  }
 },
 "nbformat": 4,
 "nbformat_minor": 2
}