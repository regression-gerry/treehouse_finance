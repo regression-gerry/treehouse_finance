{
 "cells": [
  {
   "cell_type": "code",
   "execution_count": 48,
   "source": [
    "## Libraries\r\n",
    "import pandas as pd\r\n",
    "import numpy as np\r\n",
    "import scipy, scipy.stats"
   ],
   "outputs": [],
   "metadata": {}
  },
  {
   "cell_type": "markdown",
   "source": [
    "### 2. Write a function ‘exists’ which takes a variable symbol v and returns whether v is defined."
   ],
   "metadata": {}
  },
  {
   "cell_type": "code",
   "execution_count": 36,
   "source": [
    "try:\r\n",
    "    var\r\n",
    "except NameError:\r\n",
    "    print('v is not defined')\r\n",
    "else:\r\n",
    "    print(\"exists\")"
   ],
   "outputs": [
    {
     "output_type": "stream",
     "name": "stdout",
     "text": [
      "v is not defined\n"
     ]
    }
   ],
   "metadata": {}
  },
  {
   "cell_type": "markdown",
   "source": [
    "### 3. Create a function to compute N layer of a Pascal Triangle. "
   ],
   "metadata": {}
  },
  {
   "cell_type": "code",
   "execution_count": 37,
   "source": [
    "def pascal_triangle(n):\r\n",
    "    pascal = [[1]*(i+1) for i in range(n)] # set the initial layer\r\n",
    "    \r\n",
    "    # O(n^2)\r\n",
    "    for i in range(n):\r\n",
    "        for j in range(1,i):\r\n",
    "            pascal[i][j] = pascal[i-1][j-1] + pascal[i-1][j]\r\n",
    "    return pascal"
   ],
   "outputs": [],
   "metadata": {}
  },
  {
   "cell_type": "code",
   "execution_count": 38,
   "source": [
    "# test cases for pascal triangle\r\n",
    "pascal_triangle(10)\r\n",
    "# pascal_triangle(20)"
   ],
   "outputs": [
    {
     "output_type": "execute_result",
     "data": {
      "text/plain": [
       "[[1],\n",
       " [1, 1],\n",
       " [1, 2, 1],\n",
       " [1, 3, 3, 1],\n",
       " [1, 4, 6, 4, 1],\n",
       " [1, 5, 10, 10, 5, 1],\n",
       " [1, 6, 15, 20, 15, 6, 1],\n",
       " [1, 7, 21, 35, 35, 21, 7, 1],\n",
       " [1, 8, 28, 56, 70, 56, 28, 8, 1],\n",
       " [1, 9, 36, 84, 126, 126, 84, 36, 9, 1]]"
      ]
     },
     "metadata": {},
     "execution_count": 38
    }
   ],
   "metadata": {}
  },
  {
   "cell_type": "markdown",
   "source": [
    "### 4. Assume have the following portfolio as of 2016/01/01:\r\n",
    "    AAPL.O 15%\r\n",
    "    IBM.N 20%\r\n",
    "    GOOG.O 20%\r\n",
    "    BP.N 15%\r\n",
    "    XOM.N 10%\r\n",
    "    COST.O 15%\r\n",
    "    GS.N 5%\r\n",
    "\r\n",
    "a. Using historical daily returns (Yahoo/Google Finance or any other market data\r\n",
    "source), calculate VaR95% and CVaR95% of the portfolio as of 2016/12/31\r\n",
    "\r\n",
    "b. Using expected mean, covariance matrix and parametric method, calculate VaR95%\r\n",
    "and CVaR95%\r\n",
    "\r\n",
    "c. Assume you can change weights, allow shorting but no leverage (i.e. sum of weights\r\n",
    "equal 100%), and rebalance monthly. What is the optimal portfolio holding by end of\r\n",
    "each month till end of 2016\r\n",
    "Notes: If you have other assumption(s) please state clearly"
   ],
   "metadata": {}
  },
  {
   "cell_type": "markdown",
   "source": [],
   "metadata": {}
  },
  {
   "cell_type": "code",
   "execution_count": 39,
   "source": [
    "portfolio = pd.read_csv('portfolio.csv')\r\n",
    "portfolio['date'] = pd.to_datetime(portfolio['date'], format='%d/%m/%Y')\r\n",
    "\r\n",
    "# calculate returns\r\n",
    "portfolio.iloc[:, 1:8] = portfolio.iloc[:, 1:8].pct_change(1)\r\n",
    "\r\n",
    "# portfolio weights\r\n",
    "weights = np.array([.15, .2, .2, .15, .1, .15, .05])"
   ],
   "outputs": [],
   "metadata": {}
  },
  {
   "cell_type": "code",
   "execution_count": null,
   "source": [],
   "outputs": [],
   "metadata": {}
  },
  {
   "cell_type": "markdown",
   "source": [
    "#### a. Using historical daily returns (Yahoo/Google Finance or any other market data source), calculate VaR95% and CVaR95% of the portfolio as of 2016/12/31"
   ],
   "metadata": {}
  },
  {
   "cell_type": "code",
   "execution_count": 40,
   "source": [
    "# returns of portfolio for historical simulation of VaR\r\n",
    "returns = portfolio.copy()\r\n",
    "returns.set_index('date', inplace=True)\r\n",
    "returns.dropna(axis=0, inplace=True)"
   ],
   "outputs": [],
   "metadata": {}
  },
  {
   "cell_type": "code",
   "execution_count": 41,
   "source": [
    "returns.info()"
   ],
   "outputs": [
    {
     "output_type": "stream",
     "name": "stdout",
     "text": [
      "<class 'pandas.core.frame.DataFrame'>\n",
      "DatetimeIndex: 251 entries, 2016-01-05 to 2016-12-30\n",
      "Data columns (total 7 columns):\n",
      " #   Column  Non-Null Count  Dtype  \n",
      "---  ------  --------------  -----  \n",
      " 0   aapl    251 non-null    float64\n",
      " 1   ibm     251 non-null    float64\n",
      " 2   goog    251 non-null    float64\n",
      " 3   bp      251 non-null    float64\n",
      " 4   xom     251 non-null    float64\n",
      " 5   cost    251 non-null    float64\n",
      " 6   gs      251 non-null    float64\n",
      "dtypes: float64(7)\n",
      "memory usage: 15.7 KB\n"
     ]
    }
   ],
   "metadata": {}
  },
  {
   "cell_type": "code",
   "execution_count": 42,
   "source": [
    "# find the PnL of the portfolio with weights\r\n",
    "pnl = (weights * returns.values).sum(axis=1)"
   ],
   "outputs": [],
   "metadata": {}
  },
  {
   "cell_type": "code",
   "execution_count": 43,
   "source": [
    "pnl"
   ],
   "outputs": [
    {
     "output_type": "execute_result",
     "data": {
      "text/plain": [
       "array([-3.97613735e-03, -1.01376401e-02, -2.53068179e-02, -1.18274884e-02,\n",
       "        6.69877370e-03,  6.85541706e-03, -1.80598357e-02,  2.70876729e-02,\n",
       "       -2.82176609e-02, -3.80582667e-03, -1.97471375e-02,  1.07275346e-02,\n",
       "        2.54722808e-02, -1.97896173e-02,  1.10396964e-02, -1.93048640e-02,\n",
       "        2.31082419e-02,  1.90572964e-02, -4.48773355e-03, -2.28391056e-02,\n",
       "        3.04782339e-03,  4.13672043e-03, -9.12254991e-03, -1.64619644e-03,\n",
       "       -1.15297318e-02, -1.14778982e-02, -1.05442626e-02,  1.89185762e-02,\n",
       "        1.14365287e-02,  2.08176034e-02,  5.26436383e-04,  1.28085649e-03,\n",
       "        8.58409228e-03, -1.73058287e-02,  5.65549411e-03,  8.31308873e-03,\n",
       "       -6.36678965e-03, -5.33748569e-03,  2.34827601e-02,  1.00418608e-02,\n",
       "        3.65590072e-03,  2.77773819e-03, -1.51208167e-03, -1.04891693e-02,\n",
       "        7.69220043e-03, -5.04323495e-04,  1.31270423e-02, -9.11861708e-04,\n",
       "        2.65697675e-03,  1.04977701e-02,  1.04617617e-02,  1.70325226e-04,\n",
       "        1.97529799e-03, -2.54592065e-03, -8.02090207e-03,  1.12215516e-03,\n",
       "        1.23415786e-03,  1.08085093e-02,  8.52303907e-03, -2.76015100e-03,\n",
       "        1.87764468e-03, -1.13739206e-03, -1.33744316e-02,  7.70516910e-03,\n",
       "       -1.51290802e-02,  7.19846154e-03, -1.46700242e-03,  1.21475309e-02,\n",
       "        1.12192992e-02, -1.22575944e-03, -1.60657367e-03,  3.09497810e-03,\n",
       "       -9.87927438e-03,  4.44714630e-03,  2.09156099e-03, -1.03669508e-02,\n",
       "       -3.03929513e-05,  4.85500836e-03, -6.13167220e-03, -1.64692389e-02,\n",
       "       -5.17875373e-03,  4.86102628e-03, -7.05762493e-03, -6.73092221e-03,\n",
       "        2.72047772e-04,  1.94632719e-03,  1.71287629e-04,  1.42078520e-02,\n",
       "       -9.44447059e-03, -3.16624322e-03, -8.03039845e-03,  1.47067135e-02,\n",
       "       -7.24098592e-03, -3.68306709e-04, -5.61923850e-03,  6.83074372e-03,\n",
       "       -3.08646366e-03,  1.20715587e-02,  1.73286851e-02,  4.85520171e-03,\n",
       "        1.41944851e-03, -4.58180279e-03, -2.34280116e-04, -2.02397584e-03,\n",
       "       -2.09754805e-03,  4.41700191e-03,  5.21808910e-03,  5.56012996e-03,\n",
       "       -6.19523875e-04, -9.84637786e-03, -5.30956104e-03, -4.61639901e-03,\n",
       "       -1.02840221e-03,  5.82564122e-03, -5.48289680e-03,  7.19408348e-03,\n",
       "        7.09703065e-03, -2.32145616e-03,  9.77962824e-03, -3.78301703e-02,\n",
       "       -1.56389980e-02,  1.96447022e-02,  1.74788452e-02,  1.42241914e-02,\n",
       "        4.42219156e-03, -7.00482341e-03,  3.57233929e-03,  6.26566656e-03,\n",
       "        1.20884342e-02,  7.23423204e-03,  1.00446937e-02, -1.35616472e-03,\n",
       "        8.62101552e-03, -1.50309341e-03,  5.14812890e-03, -4.14708704e-04,\n",
       "        2.67606517e-03, -4.60006902e-03,  2.77141214e-03, -7.59311703e-03,\n",
       "       -4.27812900e-03,  8.20510967e-03, -6.72553185e-04,  5.64758591e-03,\n",
       "       -3.94073467e-03, -2.77691684e-03,  1.48654006e-03,  1.04254730e-03,\n",
       "        1.05179935e-02,  5.51354670e-04,  2.58873139e-03, -4.85513665e-03,\n",
       "        5.09236985e-03,  6.40706152e-04,  2.45064258e-03, -1.54546358e-03,\n",
       "       -5.26044848e-05,  3.12092579e-03, -4.12722079e-03, -3.50821673e-03,\n",
       "        6.21039689e-04, -2.33395871e-03, -4.35375688e-03, -2.49911850e-03,\n",
       "        3.59992813e-03, -4.44894361e-03, -2.35606823e-03, -4.82200732e-03,\n",
       "        8.42493868e-03,  5.49941007e-03,  3.03297112e-04, -7.69310686e-03,\n",
       "       -2.08254129e-02,  1.26438087e-02, -1.13785726e-02,  1.93461410e-03,\n",
       "        1.40435407e-02, -7.42168961e-03, -1.35177076e-03, -1.84854602e-03,\n",
       "        6.70633394e-03,  8.93150166e-03, -6.92715084e-03, -8.42994489e-03,\n",
       "        5.77026536e-03,  1.17574641e-02, -7.08345944e-03,  9.85890490e-03,\n",
       "       -3.94660650e-03, -2.43208003e-06,  3.97107882e-03,  3.88670782e-04,\n",
       "        1.59391310e-04,  1.17935481e-02, -7.49688786e-03,  3.56455110e-04,\n",
       "       -5.13124275e-03,  3.36313211e-03, -2.63751158e-03,  2.36912115e-03,\n",
       "        3.48065946e-03, -2.14658673e-04, -3.37562564e-03,  8.09502286e-03,\n",
       "       -6.60453261e-04, -4.18707213e-03,  1.49690338e-04, -7.01657637e-03,\n",
       "       -5.37010193e-03, -1.11135259e-02, -6.23686612e-03, -5.99146904e-03,\n",
       "       -5.13029897e-03,  1.91946044e-02,  2.50083431e-03,  4.32741441e-03,\n",
       "        4.46301477e-04, -1.49874009e-03, -9.73921240e-03,  1.29697175e-02,\n",
       "        3.59313104e-03,  2.53634133e-03, -1.84614787e-03,  1.32690931e-02,\n",
       "        2.06836950e-03, -4.59303734e-03,  2.09000404e-03, -9.26986480e-04,\n",
       "       -1.62218472e-03,  2.50633349e-03, -2.17873147e-03,  1.31980214e-03,\n",
       "        3.23823661e-03,  1.23835693e-03,  1.58500141e-02,  9.94138601e-03,\n",
       "        9.29493788e-03,  1.85911977e-03,  1.02668516e-02, -5.23764759e-03,\n",
       "        1.77822132e-03, -2.94657539e-04,  3.61067095e-03,  3.12925339e-03,\n",
       "       -8.23374592e-04, -2.16038127e-03,  6.56618226e-06,  2.41289800e-03,\n",
       "       -4.52520130e-03,  1.24262884e-04, -5.52876491e-03])"
      ]
     },
     "metadata": {},
     "execution_count": 43
    }
   ],
   "metadata": {}
  },
  {
   "cell_type": "markdown",
   "source": [
    "Equation for CVAR:\r\n",
    "\r\n",
    "$$CVaR(\\alpha) = \\frac{1}{1-\\alpha}\\mathbb{E}\\int_{VaR(\\alpha)}^x xf(x)dx $$"
   ],
   "metadata": {}
  },
  {
   "cell_type": "code",
   "execution_count": 50,
   "source": [
    "historic_var = round(np.percentile(pnl, 5, interpolation=\"lower\"), 3)\r\n",
    "\r\n",
    "# using scipy norm to calculate cvar\r\n",
    "c_var_95 =  (1/(1 - 0.95))*scipy.stats.norm.expect(lambda x: x, lb = historic_var)\r\n",
    "\r\n",
    "print('The simple historical VaR95% is {}'.format(historic_var))\r\n",
    "print('The CVaR95% is {}'.format(c_var_95))"
   ],
   "outputs": [
    {
     "output_type": "stream",
     "name": "stdout",
     "text": [
      "The simple historical VaR95% is -0.015\n",
      "The CVaR95% is 7.977948038386972\n"
     ]
    }
   ],
   "metadata": {}
  },
  {
   "cell_type": "markdown",
   "source": [
    "#### b. Using expected mean, covariance matrix and parametric method, calculate VaR95% and CVaR95%"
   ],
   "metadata": {}
  },
  {
   "cell_type": "code",
   "execution_count": 26,
   "source": [
    "portfolio.head()"
   ],
   "outputs": [
    {
     "output_type": "execute_result",
     "data": {
      "text/plain": [
       "        date      aapl       ibm      goog        bp       xom      cost  \\\n",
       "0 2016-01-04       NaN       NaN       NaN       NaN       NaN       NaN   \n",
       "1 2016-01-05 -0.025057 -0.000736  0.000998 -0.004185  0.008521  0.002445   \n",
       "2 2016-01-06 -0.019470 -0.005006  0.001401 -0.020369 -0.008321 -0.009254   \n",
       "3 2016-01-07 -0.042494 -0.017090 -0.023170 -0.028713 -0.016006 -0.022909   \n",
       "4 2016-01-08  0.005392 -0.009258 -0.016410 -0.017669 -0.020202 -0.017504   \n",
       "\n",
       "         gs  \n",
       "0       NaN  \n",
       "1 -0.017218  \n",
       "2 -0.024413  \n",
       "3 -0.030735  \n",
       "4 -0.004131  "
      ],
      "text/html": [
       "<div>\n",
       "<style scoped>\n",
       "    .dataframe tbody tr th:only-of-type {\n",
       "        vertical-align: middle;\n",
       "    }\n",
       "\n",
       "    .dataframe tbody tr th {\n",
       "        vertical-align: top;\n",
       "    }\n",
       "\n",
       "    .dataframe thead th {\n",
       "        text-align: right;\n",
       "    }\n",
       "</style>\n",
       "<table border=\"1\" class=\"dataframe\">\n",
       "  <thead>\n",
       "    <tr style=\"text-align: right;\">\n",
       "      <th></th>\n",
       "      <th>date</th>\n",
       "      <th>aapl</th>\n",
       "      <th>ibm</th>\n",
       "      <th>goog</th>\n",
       "      <th>bp</th>\n",
       "      <th>xom</th>\n",
       "      <th>cost</th>\n",
       "      <th>gs</th>\n",
       "    </tr>\n",
       "  </thead>\n",
       "  <tbody>\n",
       "    <tr>\n",
       "      <th>0</th>\n",
       "      <td>2016-01-04</td>\n",
       "      <td>NaN</td>\n",
       "      <td>NaN</td>\n",
       "      <td>NaN</td>\n",
       "      <td>NaN</td>\n",
       "      <td>NaN</td>\n",
       "      <td>NaN</td>\n",
       "      <td>NaN</td>\n",
       "    </tr>\n",
       "    <tr>\n",
       "      <th>1</th>\n",
       "      <td>2016-01-05</td>\n",
       "      <td>-0.025057</td>\n",
       "      <td>-0.000736</td>\n",
       "      <td>0.000998</td>\n",
       "      <td>-0.004185</td>\n",
       "      <td>0.008521</td>\n",
       "      <td>0.002445</td>\n",
       "      <td>-0.017218</td>\n",
       "    </tr>\n",
       "    <tr>\n",
       "      <th>2</th>\n",
       "      <td>2016-01-06</td>\n",
       "      <td>-0.019470</td>\n",
       "      <td>-0.005006</td>\n",
       "      <td>0.001401</td>\n",
       "      <td>-0.020369</td>\n",
       "      <td>-0.008321</td>\n",
       "      <td>-0.009254</td>\n",
       "      <td>-0.024413</td>\n",
       "    </tr>\n",
       "    <tr>\n",
       "      <th>3</th>\n",
       "      <td>2016-01-07</td>\n",
       "      <td>-0.042494</td>\n",
       "      <td>-0.017090</td>\n",
       "      <td>-0.023170</td>\n",
       "      <td>-0.028713</td>\n",
       "      <td>-0.016006</td>\n",
       "      <td>-0.022909</td>\n",
       "      <td>-0.030735</td>\n",
       "    </tr>\n",
       "    <tr>\n",
       "      <th>4</th>\n",
       "      <td>2016-01-08</td>\n",
       "      <td>0.005392</td>\n",
       "      <td>-0.009258</td>\n",
       "      <td>-0.016410</td>\n",
       "      <td>-0.017669</td>\n",
       "      <td>-0.020202</td>\n",
       "      <td>-0.017504</td>\n",
       "      <td>-0.004131</td>\n",
       "    </tr>\n",
       "  </tbody>\n",
       "</table>\n",
       "</div>"
      ]
     },
     "metadata": {},
     "execution_count": 26
    }
   ],
   "metadata": {}
  },
  {
   "cell_type": "code",
   "execution_count": 5,
   "source": [
    "# cov matrix\r\n",
    "cov_mat = portfolio.set_index('date').cov()\r\n",
    "\r\n",
    "# avg returns\r\n",
    "avg_ret = portfolio.set_index('date').mean()\r\n",
    "\r\n",
    "portfolio_mean = avg_ret.dot(weights)\r\n",
    "\r\n",
    "# portfolio std dev\r\n",
    "portfolio_sd = np.sqrt(weights.T.dot(cov_matrix).dot(weights))\r\n",
    "\r\n",
    "# mean of investment\r\n"
   ],
   "outputs": [],
   "metadata": {}
  },
  {
   "cell_type": "code",
   "execution_count": 6,
   "source": [],
   "outputs": [
    {
     "output_type": "execute_result",
     "data": {
      "text/plain": [
       "          aapl       ibm      goog        bp       xom      cost        gs\n",
       "aapl  0.000217  0.000054  0.000088  0.000079  0.000049  0.000054  0.000090\n",
       "ibm   0.000054  0.000155  0.000052  0.000099  0.000065  0.000023  0.000092\n",
       "goog  0.000088  0.000052  0.000157  0.000047  0.000030  0.000049  0.000065\n",
       "bp    0.000079  0.000099  0.000047  0.000353  0.000155  0.000026  0.000169\n",
       "xom   0.000049  0.000065  0.000030  0.000155  0.000148  0.000021  0.000086\n",
       "cost  0.000054  0.000023  0.000049  0.000026  0.000021  0.000122  0.000047\n",
       "gs    0.000090  0.000092  0.000065  0.000169  0.000086  0.000047  0.000285"
      ],
      "text/html": [
       "<div>\n",
       "<style scoped>\n",
       "    .dataframe tbody tr th:only-of-type {\n",
       "        vertical-align: middle;\n",
       "    }\n",
       "\n",
       "    .dataframe tbody tr th {\n",
       "        vertical-align: top;\n",
       "    }\n",
       "\n",
       "    .dataframe thead th {\n",
       "        text-align: right;\n",
       "    }\n",
       "</style>\n",
       "<table border=\"1\" class=\"dataframe\">\n",
       "  <thead>\n",
       "    <tr style=\"text-align: right;\">\n",
       "      <th></th>\n",
       "      <th>aapl</th>\n",
       "      <th>ibm</th>\n",
       "      <th>goog</th>\n",
       "      <th>bp</th>\n",
       "      <th>xom</th>\n",
       "      <th>cost</th>\n",
       "      <th>gs</th>\n",
       "    </tr>\n",
       "  </thead>\n",
       "  <tbody>\n",
       "    <tr>\n",
       "      <th>aapl</th>\n",
       "      <td>0.000217</td>\n",
       "      <td>0.000054</td>\n",
       "      <td>0.000088</td>\n",
       "      <td>0.000079</td>\n",
       "      <td>0.000049</td>\n",
       "      <td>0.000054</td>\n",
       "      <td>0.000090</td>\n",
       "    </tr>\n",
       "    <tr>\n",
       "      <th>ibm</th>\n",
       "      <td>0.000054</td>\n",
       "      <td>0.000155</td>\n",
       "      <td>0.000052</td>\n",
       "      <td>0.000099</td>\n",
       "      <td>0.000065</td>\n",
       "      <td>0.000023</td>\n",
       "      <td>0.000092</td>\n",
       "    </tr>\n",
       "    <tr>\n",
       "      <th>goog</th>\n",
       "      <td>0.000088</td>\n",
       "      <td>0.000052</td>\n",
       "      <td>0.000157</td>\n",
       "      <td>0.000047</td>\n",
       "      <td>0.000030</td>\n",
       "      <td>0.000049</td>\n",
       "      <td>0.000065</td>\n",
       "    </tr>\n",
       "    <tr>\n",
       "      <th>bp</th>\n",
       "      <td>0.000079</td>\n",
       "      <td>0.000099</td>\n",
       "      <td>0.000047</td>\n",
       "      <td>0.000353</td>\n",
       "      <td>0.000155</td>\n",
       "      <td>0.000026</td>\n",
       "      <td>0.000169</td>\n",
       "    </tr>\n",
       "    <tr>\n",
       "      <th>xom</th>\n",
       "      <td>0.000049</td>\n",
       "      <td>0.000065</td>\n",
       "      <td>0.000030</td>\n",
       "      <td>0.000155</td>\n",
       "      <td>0.000148</td>\n",
       "      <td>0.000021</td>\n",
       "      <td>0.000086</td>\n",
       "    </tr>\n",
       "    <tr>\n",
       "      <th>cost</th>\n",
       "      <td>0.000054</td>\n",
       "      <td>0.000023</td>\n",
       "      <td>0.000049</td>\n",
       "      <td>0.000026</td>\n",
       "      <td>0.000021</td>\n",
       "      <td>0.000122</td>\n",
       "      <td>0.000047</td>\n",
       "    </tr>\n",
       "    <tr>\n",
       "      <th>gs</th>\n",
       "      <td>0.000090</td>\n",
       "      <td>0.000092</td>\n",
       "      <td>0.000065</td>\n",
       "      <td>0.000169</td>\n",
       "      <td>0.000086</td>\n",
       "      <td>0.000047</td>\n",
       "      <td>0.000285</td>\n",
       "    </tr>\n",
       "  </tbody>\n",
       "</table>\n",
       "</div>"
      ]
     },
     "metadata": {},
     "execution_count": 6
    }
   ],
   "metadata": {}
  },
  {
   "cell_type": "code",
   "execution_count": null,
   "source": [],
   "outputs": [],
   "metadata": {}
  }
 ],
 "metadata": {
  "orig_nbformat": 4,
  "language_info": {
   "name": "python",
   "version": "3.7.7",
   "mimetype": "text/x-python",
   "codemirror_mode": {
    "name": "ipython",
    "version": 3
   },
   "pygments_lexer": "ipython3",
   "nbconvert_exporter": "python",
   "file_extension": ".py"
  },
  "kernelspec": {
   "name": "python3",
   "display_name": "Python 3.7.7 64-bit ('base': conda)"
  },
  "interpreter": {
   "hash": "bd0568d8647bfe2c5b59c81f47863eb65b413eeef312764b5149d804a4a00697"
  }
 },
 "nbformat": 4,
 "nbformat_minor": 2
}