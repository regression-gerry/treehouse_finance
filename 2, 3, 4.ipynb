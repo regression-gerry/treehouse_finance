{
 "cells": [
  {
   "cell_type": "code",
   "execution_count": 81,
   "source": [
    "## Libraries\r\n",
    "import pandas as pd\r\n",
    "import numpy as np\r\n",
    "import scipy, scipy.stats"
   ],
   "outputs": [],
   "metadata": {}
  },
  {
   "cell_type": "markdown",
   "source": [
    "### 2. Write a function ‘exists’ which takes a variable symbol v and returns whether v is defined."
   ],
   "metadata": {}
  },
  {
   "cell_type": "code",
   "execution_count": 36,
   "source": [
    "try:\r\n",
    "    var\r\n",
    "except NameError:\r\n",
    "    print('v is not defined')\r\n",
    "else:\r\n",
    "    print(\"exists\")"
   ],
   "outputs": [
    {
     "output_type": "stream",
     "name": "stdout",
     "text": [
      "v is not defined\n"
     ]
    }
   ],
   "metadata": {}
  },
  {
   "cell_type": "markdown",
   "source": [
    "### 3. Create a function to compute N layer of a Pascal Triangle. "
   ],
   "metadata": {}
  },
  {
   "cell_type": "code",
   "execution_count": 37,
   "source": [
    "def pascal_triangle(n):\r\n",
    "    pascal = [[1]*(i+1) for i in range(n)] # set the initial layer\r\n",
    "    \r\n",
    "    # O(n^2)\r\n",
    "    for i in range(n):\r\n",
    "        for j in range(1,i):\r\n",
    "            pascal[i][j] = pascal[i-1][j-1] + pascal[i-1][j]\r\n",
    "    return pascal"
   ],
   "outputs": [],
   "metadata": {}
  },
  {
   "cell_type": "code",
   "execution_count": 38,
   "source": [
    "# test cases for pascal triangle\r\n",
    "pascal_triangle(10)\r\n",
    "# pascal_triangle(20)"
   ],
   "outputs": [
    {
     "output_type": "execute_result",
     "data": {
      "text/plain": [
       "[[1],\n",
       " [1, 1],\n",
       " [1, 2, 1],\n",
       " [1, 3, 3, 1],\n",
       " [1, 4, 6, 4, 1],\n",
       " [1, 5, 10, 10, 5, 1],\n",
       " [1, 6, 15, 20, 15, 6, 1],\n",
       " [1, 7, 21, 35, 35, 21, 7, 1],\n",
       " [1, 8, 28, 56, 70, 56, 28, 8, 1],\n",
       " [1, 9, 36, 84, 126, 126, 84, 36, 9, 1]]"
      ]
     },
     "metadata": {},
     "execution_count": 38
    }
   ],
   "metadata": {}
  },
  {
   "cell_type": "markdown",
   "source": [
    "### 4. Assume have the following portfolio as of 2016/01/01:\r\n",
    "    AAPL.O 15%\r\n",
    "    IBM.N 20%\r\n",
    "    GOOG.O 20%\r\n",
    "    BP.N 15%\r\n",
    "    XOM.N 10%\r\n",
    "    COST.O 15%\r\n",
    "    GS.N 5%\r\n",
    "\r\n",
    "a. Using historical daily returns (Yahoo/Google Finance or any other market data\r\n",
    "source), calculate VaR95% and CVaR95% of the portfolio as of 2016/12/31\r\n",
    "\r\n",
    "b. Using expected mean, covariance matrix and parametric method, calculate VaR95%\r\n",
    "and CVaR95%\r\n",
    "\r\n",
    "c. Assume you can change weights, allow shorting but no leverage (i.e. sum of weights\r\n",
    "equal 100%), and rebalance monthly. What is the optimal portfolio holding by end of\r\n",
    "each month till end of 2016\r\n",
    "Notes: If you have other assumption(s) please state clearly"
   ],
   "metadata": {}
  },
  {
   "cell_type": "markdown",
   "source": [
    "#### a. Using historical daily returns (Yahoo/Google Finance or any other market data source), calculate VaR95% and CVaR95% of the portfolio as of 2016/12/31"
   ],
   "metadata": {}
  },
  {
   "cell_type": "code",
   "execution_count": 2,
   "source": [
    "portfolio = pd.read_csv('portfolio.csv')\r\n",
    "portfolio['date'] = pd.to_datetime(portfolio['date'], format='%d/%m/%Y')\r\n",
    "\r\n",
    "# calculate returns\r\n",
    "portfolio.iloc[:, 1:8] = portfolio.iloc[:, 1:8].pct_change(1)\r\n",
    "\r\n",
    "# portfolio weights\r\n",
    "weights = np.array([.15, .2, .2, .15, .1, .15, .05])"
   ],
   "outputs": [],
   "metadata": {}
  },
  {
   "cell_type": "code",
   "execution_count": 12,
   "source": [
    "# find the portfolio returns with weights\r\n",
    "portfolio_returns = (weights * returns.values).sum(axis=1)"
   ],
   "outputs": [],
   "metadata": {}
  },
  {
   "cell_type": "markdown",
   "source": [
    "Equation for CVAR:\r\n",
    "\r\n",
    "$$CVaR(\\alpha) = \\frac{1}{1-\\alpha}\\mathbb{E}\\int_{VaR(\\alpha)}^x xf(x)dx $$"
   ],
   "metadata": {}
  },
  {
   "cell_type": "code",
   "execution_count": 98,
   "source": [
    "# function to return stats of portfolio\r\n",
    "def stats(df):\r\n",
    "    df['date'] = pd.to_datetime(df['date'], format='%d/%m/%Y')\r\n",
    "    df.set_index('date', inplace=True)\r\n",
    "\r\n",
    "    # calculate returns\r\n",
    "    returns = df.pct_change(1)\r\n",
    "    returns.dropna(axis=0, inplace=True)\r\n",
    "    cov_mat = returns.cov()\r\n",
    "    return returns, cov_mat\r\n",
    "\r\n",
    "portfolio = pd.read_csv('portfolio.csv')\r\n",
    "portfolio_returns = (weights * stats(portfolio)[0].values).sum(axis=1) # acc to weights"
   ],
   "outputs": [],
   "metadata": {}
  },
  {
   "cell_type": "code",
   "execution_count": 101,
   "source": [
    "port = pd.read_csv('portfolio.csv')\r\n",
    "\r\n",
    "# cov\r\n",
    "cov = stats(portfolio)[1]\r\n",
    "portfolio_sd = np.sqrt(weights.T.dot(cov).dot(weights))"
   ],
   "outputs": [
    {
     "output_type": "error",
     "ename": "KeyError",
     "evalue": "'date'",
     "traceback": [
      "\u001b[1;31m---------------------------------------------------------------------------\u001b[0m",
      "\u001b[1;31mKeyError\u001b[0m                                  Traceback (most recent call last)",
      "\u001b[1;32m~\\Miniconda3\\lib\\site-packages\\pandas\\core\\indexes\\base.py\u001b[0m in \u001b[0;36mget_loc\u001b[1;34m(self, key, method, tolerance)\u001b[0m\n\u001b[0;32m   2894\u001b[0m             \u001b[1;32mtry\u001b[0m\u001b[1;33m:\u001b[0m\u001b[1;33m\u001b[0m\u001b[1;33m\u001b[0m\u001b[0m\n\u001b[1;32m-> 2895\u001b[1;33m                 \u001b[1;32mreturn\u001b[0m \u001b[0mself\u001b[0m\u001b[1;33m.\u001b[0m\u001b[0m_engine\u001b[0m\u001b[1;33m.\u001b[0m\u001b[0mget_loc\u001b[0m\u001b[1;33m(\u001b[0m\u001b[0mcasted_key\u001b[0m\u001b[1;33m)\u001b[0m\u001b[1;33m\u001b[0m\u001b[1;33m\u001b[0m\u001b[0m\n\u001b[0m\u001b[0;32m   2896\u001b[0m             \u001b[1;32mexcept\u001b[0m \u001b[0mKeyError\u001b[0m \u001b[1;32mas\u001b[0m \u001b[0merr\u001b[0m\u001b[1;33m:\u001b[0m\u001b[1;33m\u001b[0m\u001b[1;33m\u001b[0m\u001b[0m\n",
      "\u001b[1;32mpandas\\_libs\\index.pyx\u001b[0m in \u001b[0;36mpandas._libs.index.IndexEngine.get_loc\u001b[1;34m()\u001b[0m\n",
      "\u001b[1;32mpandas\\_libs\\index.pyx\u001b[0m in \u001b[0;36mpandas._libs.index.IndexEngine.get_loc\u001b[1;34m()\u001b[0m\n",
      "\u001b[1;32mpandas\\_libs\\hashtable_class_helper.pxi\u001b[0m in \u001b[0;36mpandas._libs.hashtable.PyObjectHashTable.get_item\u001b[1;34m()\u001b[0m\n",
      "\u001b[1;32mpandas\\_libs\\hashtable_class_helper.pxi\u001b[0m in \u001b[0;36mpandas._libs.hashtable.PyObjectHashTable.get_item\u001b[1;34m()\u001b[0m\n",
      "\u001b[1;31mKeyError\u001b[0m: 'date'",
      "\nThe above exception was the direct cause of the following exception:\n",
      "\u001b[1;31mKeyError\u001b[0m                                  Traceback (most recent call last)",
      "\u001b[1;32m<ipython-input-101-1f3758e6a8ce>\u001b[0m in \u001b[0;36m<module>\u001b[1;34m\u001b[0m\n\u001b[0;32m      1\u001b[0m \u001b[0mport\u001b[0m \u001b[1;33m=\u001b[0m \u001b[0mpd\u001b[0m\u001b[1;33m.\u001b[0m\u001b[0mread_csv\u001b[0m\u001b[1;33m(\u001b[0m\u001b[1;34m'portfolio.csv'\u001b[0m\u001b[1;33m)\u001b[0m\u001b[1;33m\u001b[0m\u001b[1;33m\u001b[0m\u001b[0m\n\u001b[0;32m      2\u001b[0m \u001b[1;31m# cov\u001b[0m\u001b[1;33m\u001b[0m\u001b[1;33m\u001b[0m\u001b[1;33m\u001b[0m\u001b[0m\n\u001b[1;32m----> 3\u001b[1;33m \u001b[0mcov\u001b[0m \u001b[1;33m=\u001b[0m \u001b[0mstats\u001b[0m\u001b[1;33m(\u001b[0m\u001b[0mportfolio\u001b[0m\u001b[1;33m)\u001b[0m\u001b[1;33m[\u001b[0m\u001b[1;36m1\u001b[0m\u001b[1;33m]\u001b[0m\u001b[1;33m\u001b[0m\u001b[1;33m\u001b[0m\u001b[0m\n\u001b[0m\u001b[0;32m      4\u001b[0m \u001b[0mportfolio_sd\u001b[0m \u001b[1;33m=\u001b[0m \u001b[0mnp\u001b[0m\u001b[1;33m.\u001b[0m\u001b[0msqrt\u001b[0m\u001b[1;33m(\u001b[0m\u001b[0mweights\u001b[0m\u001b[1;33m.\u001b[0m\u001b[0mT\u001b[0m\u001b[1;33m.\u001b[0m\u001b[0mdot\u001b[0m\u001b[1;33m(\u001b[0m\u001b[0mcov\u001b[0m\u001b[1;33m)\u001b[0m\u001b[1;33m.\u001b[0m\u001b[0mdot\u001b[0m\u001b[1;33m(\u001b[0m\u001b[0mweights\u001b[0m\u001b[1;33m)\u001b[0m\u001b[1;33m)\u001b[0m\u001b[1;33m\u001b[0m\u001b[1;33m\u001b[0m\u001b[0m\n",
      "\u001b[1;32m<ipython-input-98-5046ba9b7347>\u001b[0m in \u001b[0;36mstats\u001b[1;34m(df)\u001b[0m\n\u001b[0;32m      1\u001b[0m \u001b[1;31m# function to return stats of portfolio\u001b[0m\u001b[1;33m\u001b[0m\u001b[1;33m\u001b[0m\u001b[1;33m\u001b[0m\u001b[0m\n\u001b[0;32m      2\u001b[0m \u001b[1;32mdef\u001b[0m \u001b[0mstats\u001b[0m\u001b[1;33m(\u001b[0m\u001b[0mdf\u001b[0m\u001b[1;33m)\u001b[0m\u001b[1;33m:\u001b[0m\u001b[1;33m\u001b[0m\u001b[1;33m\u001b[0m\u001b[0m\n\u001b[1;32m----> 3\u001b[1;33m     \u001b[0mdf\u001b[0m\u001b[1;33m[\u001b[0m\u001b[1;34m'date'\u001b[0m\u001b[1;33m]\u001b[0m \u001b[1;33m=\u001b[0m \u001b[0mpd\u001b[0m\u001b[1;33m.\u001b[0m\u001b[0mto_datetime\u001b[0m\u001b[1;33m(\u001b[0m\u001b[0mdf\u001b[0m\u001b[1;33m[\u001b[0m\u001b[1;34m'date'\u001b[0m\u001b[1;33m]\u001b[0m\u001b[1;33m,\u001b[0m \u001b[0mformat\u001b[0m\u001b[1;33m=\u001b[0m\u001b[1;34m'%d/%m/%Y'\u001b[0m\u001b[1;33m)\u001b[0m\u001b[1;33m\u001b[0m\u001b[1;33m\u001b[0m\u001b[0m\n\u001b[0m\u001b[0;32m      4\u001b[0m     \u001b[0mdf\u001b[0m\u001b[1;33m.\u001b[0m\u001b[0mset_index\u001b[0m\u001b[1;33m(\u001b[0m\u001b[1;34m'date'\u001b[0m\u001b[1;33m,\u001b[0m \u001b[0minplace\u001b[0m\u001b[1;33m=\u001b[0m\u001b[1;32mTrue\u001b[0m\u001b[1;33m)\u001b[0m\u001b[1;33m\u001b[0m\u001b[1;33m\u001b[0m\u001b[0m\n\u001b[0;32m      5\u001b[0m \u001b[1;33m\u001b[0m\u001b[0m\n",
      "\u001b[1;32m~\\Miniconda3\\lib\\site-packages\\pandas\\core\\frame.py\u001b[0m in \u001b[0;36m__getitem__\u001b[1;34m(self, key)\u001b[0m\n\u001b[0;32m   2900\u001b[0m             \u001b[1;32mif\u001b[0m \u001b[0mself\u001b[0m\u001b[1;33m.\u001b[0m\u001b[0mcolumns\u001b[0m\u001b[1;33m.\u001b[0m\u001b[0mnlevels\u001b[0m \u001b[1;33m>\u001b[0m \u001b[1;36m1\u001b[0m\u001b[1;33m:\u001b[0m\u001b[1;33m\u001b[0m\u001b[1;33m\u001b[0m\u001b[0m\n\u001b[0;32m   2901\u001b[0m                 \u001b[1;32mreturn\u001b[0m \u001b[0mself\u001b[0m\u001b[1;33m.\u001b[0m\u001b[0m_getitem_multilevel\u001b[0m\u001b[1;33m(\u001b[0m\u001b[0mkey\u001b[0m\u001b[1;33m)\u001b[0m\u001b[1;33m\u001b[0m\u001b[1;33m\u001b[0m\u001b[0m\n\u001b[1;32m-> 2902\u001b[1;33m             \u001b[0mindexer\u001b[0m \u001b[1;33m=\u001b[0m \u001b[0mself\u001b[0m\u001b[1;33m.\u001b[0m\u001b[0mcolumns\u001b[0m\u001b[1;33m.\u001b[0m\u001b[0mget_loc\u001b[0m\u001b[1;33m(\u001b[0m\u001b[0mkey\u001b[0m\u001b[1;33m)\u001b[0m\u001b[1;33m\u001b[0m\u001b[1;33m\u001b[0m\u001b[0m\n\u001b[0m\u001b[0;32m   2903\u001b[0m             \u001b[1;32mif\u001b[0m \u001b[0mis_integer\u001b[0m\u001b[1;33m(\u001b[0m\u001b[0mindexer\u001b[0m\u001b[1;33m)\u001b[0m\u001b[1;33m:\u001b[0m\u001b[1;33m\u001b[0m\u001b[1;33m\u001b[0m\u001b[0m\n\u001b[0;32m   2904\u001b[0m                 \u001b[0mindexer\u001b[0m \u001b[1;33m=\u001b[0m \u001b[1;33m[\u001b[0m\u001b[0mindexer\u001b[0m\u001b[1;33m]\u001b[0m\u001b[1;33m\u001b[0m\u001b[1;33m\u001b[0m\u001b[0m\n",
      "\u001b[1;32m~\\Miniconda3\\lib\\site-packages\\pandas\\core\\indexes\\base.py\u001b[0m in \u001b[0;36mget_loc\u001b[1;34m(self, key, method, tolerance)\u001b[0m\n\u001b[0;32m   2895\u001b[0m                 \u001b[1;32mreturn\u001b[0m \u001b[0mself\u001b[0m\u001b[1;33m.\u001b[0m\u001b[0m_engine\u001b[0m\u001b[1;33m.\u001b[0m\u001b[0mget_loc\u001b[0m\u001b[1;33m(\u001b[0m\u001b[0mcasted_key\u001b[0m\u001b[1;33m)\u001b[0m\u001b[1;33m\u001b[0m\u001b[1;33m\u001b[0m\u001b[0m\n\u001b[0;32m   2896\u001b[0m             \u001b[1;32mexcept\u001b[0m \u001b[0mKeyError\u001b[0m \u001b[1;32mas\u001b[0m \u001b[0merr\u001b[0m\u001b[1;33m:\u001b[0m\u001b[1;33m\u001b[0m\u001b[1;33m\u001b[0m\u001b[0m\n\u001b[1;32m-> 2897\u001b[1;33m                 \u001b[1;32mraise\u001b[0m \u001b[0mKeyError\u001b[0m\u001b[1;33m(\u001b[0m\u001b[0mkey\u001b[0m\u001b[1;33m)\u001b[0m \u001b[1;32mfrom\u001b[0m \u001b[0merr\u001b[0m\u001b[1;33m\u001b[0m\u001b[1;33m\u001b[0m\u001b[0m\n\u001b[0m\u001b[0;32m   2898\u001b[0m \u001b[1;33m\u001b[0m\u001b[0m\n\u001b[0;32m   2899\u001b[0m         \u001b[1;32mif\u001b[0m \u001b[0mtolerance\u001b[0m \u001b[1;32mis\u001b[0m \u001b[1;32mnot\u001b[0m \u001b[1;32mNone\u001b[0m\u001b[1;33m:\u001b[0m\u001b[1;33m\u001b[0m\u001b[1;33m\u001b[0m\u001b[0m\n",
      "\u001b[1;31mKeyError\u001b[0m: 'date'"
     ]
    }
   ],
   "metadata": {}
  },
  {
   "cell_type": "code",
   "execution_count": 28,
   "source": [
    "# VaR95% and CVaR95%\r\n",
    "def historical_var(returns, alpha=5):\r\n",
    "    return np.percentile(portfolio_returns, alpha)\r\n",
    "\r\n",
    "def historical_cvar(returns, alpha=5):\r\n",
    "    below_var = returns <= historical_var(returns, alpha=alpha)\r\n",
    "    return returns[below_var].mean()"
   ],
   "outputs": [],
   "metadata": {}
  },
  {
   "cell_type": "code",
   "execution_count": 73,
   "source": [
    "days = 1\r\n",
    "investment = 100000\r\n",
    "var95 = round(-historical_var(portfolio_returns, alpha=5)*np.sqrt(1)*investment, 2)\r\n",
    "cvar95 = round(-historical_cvar(portfolio_returns, alpha=5)*np.sqrt(1)*investment, 2)\r\n",
    "\r\n",
    "print('The VaR95% for a day with an investment of $100 000 is ${}'.format(var95))\r\n",
    "print('The CVaR95% for a day with an investment of $100 000 is ${}'.format(cvar95))"
   ],
   "outputs": [
    {
     "output_type": "stream",
     "name": "stdout",
     "text": [
      "The VaR95% for a day with an investment of $100 000 is $1425.18\n",
      "The CVaR95% for a day with an investment of $100 000 is $2126.64\n"
     ]
    }
   ],
   "metadata": {}
  },
  {
   "cell_type": "markdown",
   "source": [
    "#### b. Using expected mean, covariance matrix and parametric method, calculate VaR95% and CVaR95%"
   ],
   "metadata": {}
  },
  {
   "cell_type": "code",
   "execution_count": 92,
   "source": [
    "def var_parametric(portofolioReturns, portfolioStd, distribution='normal', alpha=5, dof=6):\r\n",
    "    # because the distribution is symmetric\r\n",
    "    if distribution == 'normal':\r\n",
    "        VaR = scipy.stats.norm.ppf(1-alpha/100)*portfolioStd - portofolioReturns\r\n",
    "    elif distribution == 't':\r\n",
    "        # set degrees of freedom\r\n",
    "        nu = dof\r\n",
    "        VaR = np.sqrt((nu-2)/nu) * scipy.stats.t.ppf(1-alpha/100, nu) * portfolioStd - portofolioReturns\r\n",
    "    else:\r\n",
    "        raise TypeError(\"Expected distribution type 'normal'/'t-distribution'\")\r\n",
    "    return VaR\r\n",
    "\r\n",
    "def cvar_parametric(portofolioReturns, portfolioStd, distribution='normal', alpha=5, dof=6):\r\n",
    "    if distribution == 'normal':\r\n",
    "        CVaR = (alpha/100)**-1 * scipy.stats.norm.pdf(scipy.stats.norm.ppf(alpha/100))*portfolioStd - portofolioReturns\r\n",
    "    elif distribution == 't':\r\n",
    "        # set degrees of freedom\r\n",
    "        nu = dof\r\n",
    "        xanu = scipy.stats.t.ppf(alpha/100, nu)\r\n",
    "        CVaR = -1/(alpha/100) * (1-nu)**(-1) * (nu-2+xanu**2) * scipy.stats.t.pdf(xanu, nu) * portfolioStd - portofolioReturns\r\n",
    "    else:\r\n",
    "        raise TypeError(\"Expected distribution type 'normal'/'t-distribution'\")\r\n",
    "    return CVaR"
   ],
   "outputs": [],
   "metadata": {}
  },
  {
   "cell_type": "code",
   "execution_count": 94,
   "source": [
    "var95_parametric_normal = round(var_parametric(portfolio_returns[-1], portfolio_sd)*np.sqrt(1)*investment, 2)\r\n",
    "cvar95_parametric_normal = round(cvar_parametric(portfolio_returns[-1], portfolio_sd)*np.sqrt(1)*investment, 2)\r\n",
    "\r\n",
    "var95_parametric_t = round(var_parametric(portfolio_returns[-1], portfolio_sd, distribution='t')*np.sqrt(1)*investment, 2)\r\n",
    "cvar95_parametric_t = round(cvar_parametric(portfolio_returns[-1], portfolio_sd, distribution='t')*np.sqrt(1)*investment, 2)"
   ],
   "outputs": [],
   "metadata": {}
  },
  {
   "cell_type": "code",
   "execution_count": 95,
   "source": [
    "print('The normal-distributed parametric VaR95% for a day with an investment of $100 000 is ${}'.format(var95_parametric_normal))\r\n",
    "print('The normal-distributed parametric CVaR95% for a day with an investment of $100 000 is ${}'.format(cvar95_parametric_normal))\r\n",
    "\r\n",
    "print('The t-distributed parametric VaR95% for a day with an investment of $100 000 is ${}'.format(var95_parametric_t))\r\n",
    "print('The t-distributed parametric CVaR95% for a day with an investment of $100 000 is ${}'.format(cvar95_parametric_t))"
   ],
   "outputs": [
    {
     "output_type": "stream",
     "name": "stdout",
     "text": [
      "The normal-distributed parametric VaR95% for a day with an investment of $100 000 is $2045.37\n",
      "The normal-distributed parametric CVaR95% for a day with an investment of $100 000 is $2424.52\n",
      "The t-distributed parametric VaR95% for a day with an investment of $100 000 is $1992.51\n",
      "The t-distributed parametric CVaR95% for a day with an investment of $100 000 is $2509.32\n"
     ]
    }
   ],
   "metadata": {}
  },
  {
   "cell_type": "code",
   "execution_count": null,
   "source": [],
   "outputs": [],
   "metadata": {}
  }
 ],
 "metadata": {
  "orig_nbformat": 4,
  "language_info": {
   "name": "python",
   "version": "3.8.3",
   "mimetype": "text/x-python",
   "codemirror_mode": {
    "name": "ipython",
    "version": 3
   },
   "pygments_lexer": "ipython3",
   "nbconvert_exporter": "python",
   "file_extension": ".py"
  },
  "kernelspec": {
   "name": "python3",
   "display_name": "Python 3.8.3 64-bit ('base': conda)"
  },
  "interpreter": {
   "hash": "40c2980615d13c3d759b4854f488292a7019b67194fb6386b111c8c4efb647e4"
  }
 },
 "nbformat": 4,
 "nbformat_minor": 2
}