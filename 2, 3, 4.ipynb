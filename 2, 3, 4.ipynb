{
 "cells": [
  {
   "cell_type": "code",
   "execution_count": 1,
   "source": [
    "## Libraries\r\n",
    "import pandas as pd\r\n",
    "import numpy as np\r\n",
    "import scipy, scipy.stats"
   ],
   "outputs": [],
   "metadata": {}
  },
  {
   "cell_type": "markdown",
   "source": [
    "### 2. Write a function ‘exists’ which takes a variable symbol v and returns whether v is defined."
   ],
   "metadata": {}
  },
  {
   "cell_type": "code",
   "execution_count": 36,
   "source": [
    "try:\r\n",
    "    var\r\n",
    "except NameError:\r\n",
    "    print('v is not defined')\r\n",
    "else:\r\n",
    "    print(\"exists\")"
   ],
   "outputs": [
    {
     "output_type": "stream",
     "name": "stdout",
     "text": [
      "v is not defined\n"
     ]
    }
   ],
   "metadata": {}
  },
  {
   "cell_type": "markdown",
   "source": [
    "### 3. Create a function to compute N layer of a Pascal Triangle. "
   ],
   "metadata": {}
  },
  {
   "cell_type": "code",
   "execution_count": 37,
   "source": [
    "def pascal_triangle(n):\r\n",
    "    pascal = [[1]*(i+1) for i in range(n)] # set the initial layer\r\n",
    "    \r\n",
    "    # O(n^2)\r\n",
    "    for i in range(n):\r\n",
    "        for j in range(1,i):\r\n",
    "            pascal[i][j] = pascal[i-1][j-1] + pascal[i-1][j]\r\n",
    "    return pascal"
   ],
   "outputs": [],
   "metadata": {}
  },
  {
   "cell_type": "code",
   "execution_count": 38,
   "source": [
    "# test cases for pascal triangle\r\n",
    "pascal_triangle(10)\r\n",
    "# pascal_triangle(20)"
   ],
   "outputs": [
    {
     "output_type": "execute_result",
     "data": {
      "text/plain": [
       "[[1],\n",
       " [1, 1],\n",
       " [1, 2, 1],\n",
       " [1, 3, 3, 1],\n",
       " [1, 4, 6, 4, 1],\n",
       " [1, 5, 10, 10, 5, 1],\n",
       " [1, 6, 15, 20, 15, 6, 1],\n",
       " [1, 7, 21, 35, 35, 21, 7, 1],\n",
       " [1, 8, 28, 56, 70, 56, 28, 8, 1],\n",
       " [1, 9, 36, 84, 126, 126, 84, 36, 9, 1]]"
      ]
     },
     "metadata": {},
     "execution_count": 38
    }
   ],
   "metadata": {}
  },
  {
   "cell_type": "markdown",
   "source": [
    "### 4. Assume have the following portfolio as of 2016/01/01:\r\n",
    "    AAPL.O 15%\r\n",
    "    IBM.N 20%\r\n",
    "    GOOG.O 20%\r\n",
    "    BP.N 15%\r\n",
    "    XOM.N 10%\r\n",
    "    COST.O 15%\r\n",
    "    GS.N 5%\r\n",
    "\r\n",
    "a. Using historical daily returns (Yahoo/Google Finance or any other market data\r\n",
    "source), calculate VaR95% and CVaR95% of the portfolio as of 2016/12/31\r\n",
    "\r\n",
    "b. Using expected mean, covariance matrix and parametric method, calculate VaR95%\r\n",
    "and CVaR95%\r\n",
    "\r\n",
    "c. Assume you can change weights, allow shorting but no leverage (i.e. sum of weights\r\n",
    "equal 100%), and rebalance monthly. What is the optimal portfolio holding by end of\r\n",
    "each month till end of 2016\r\n",
    "Notes: If you have other assumption(s) please state clearly"
   ],
   "metadata": {}
  },
  {
   "cell_type": "markdown",
   "source": [],
   "metadata": {}
  },
  {
   "cell_type": "code",
   "execution_count": 2,
   "source": [
    "portfolio = pd.read_csv('portfolio.csv')\r\n",
    "portfolio['date'] = pd.to_datetime(portfolio['date'], format='%d/%m/%Y')\r\n",
    "\r\n",
    "# calculate returns\r\n",
    "portfolio.iloc[:, 1:8] = portfolio.iloc[:, 1:8].pct_change(1)\r\n",
    "\r\n",
    "# portfolio weights\r\n",
    "weights = np.array([.15, .2, .2, .15, .1, .15, .05])"
   ],
   "outputs": [],
   "metadata": {}
  },
  {
   "cell_type": "code",
   "execution_count": null,
   "source": [],
   "outputs": [],
   "metadata": {}
  },
  {
   "cell_type": "markdown",
   "source": [
    "#### a. Using historical daily returns (Yahoo/Google Finance or any other market data source), calculate VaR95% and CVaR95% of the portfolio as of 2016/12/31"
   ],
   "metadata": {}
  },
  {
   "cell_type": "code",
   "execution_count": 3,
   "source": [
    "# returns of portfolio for historical simulation of VaR\r\n",
    "returns = portfolio.copy()\r\n",
    "returns.set_index('date', inplace=True)\r\n",
    "returns.dropna(axis=0, inplace=True)"
   ],
   "outputs": [],
   "metadata": {}
  },
  {
   "cell_type": "code",
   "execution_count": 4,
   "source": [
    "returns.info()"
   ],
   "outputs": [
    {
     "output_type": "stream",
     "name": "stdout",
     "text": [
      "<class 'pandas.core.frame.DataFrame'>\n",
      "DatetimeIndex: 251 entries, 2016-01-05 to 2016-12-30\n",
      "Data columns (total 7 columns):\n",
      " #   Column  Non-Null Count  Dtype  \n",
      "---  ------  --------------  -----  \n",
      " 0   aapl    251 non-null    float64\n",
      " 1   ibm     251 non-null    float64\n",
      " 2   goog    251 non-null    float64\n",
      " 3   bp      251 non-null    float64\n",
      " 4   xom     251 non-null    float64\n",
      " 5   cost    251 non-null    float64\n",
      " 6   gs      251 non-null    float64\n",
      "dtypes: float64(7)\n",
      "memory usage: 15.7 KB\n"
     ]
    }
   ],
   "metadata": {}
  },
  {
   "cell_type": "code",
   "execution_count": 12,
   "source": [
    "# find the portfolio returns with weights\r\n",
    "portfolio_returns = (weights * returns.values).sum(axis=1)"
   ],
   "outputs": [],
   "metadata": {}
  },
  {
   "cell_type": "markdown",
   "source": [
    "Equation for CVAR:\r\n",
    "\r\n",
    "$$CVaR(\\alpha) = \\frac{1}{1-\\alpha}\\mathbb{E}\\int_{VaR(\\alpha)}^x xf(x)dx $$"
   ],
   "metadata": {}
  },
  {
   "cell_type": "code",
   "execution_count": 50,
   "source": [
    "historic_var = round(np.percentile(pnl, 5, interpolation=\"lower\"), 3)\r\n",
    "\r\n",
    "# using scipy norm to calculate cvar\r\n",
    "c_var_95 =  (1/(1 - 0.95))*scipy.stats.norm.expect(lambda x: x, lb = historic_var)\r\n",
    "\r\n",
    "print('The simple historical VaR95% is {}'.format(historic_var))\r\n",
    "print('The CVaR95% is {}'.format(c_var_95))"
   ],
   "outputs": [
    {
     "output_type": "stream",
     "name": "stdout",
     "text": [
      "The simple historical VaR95% is -0.015\n",
      "The CVaR95% is 7.977948038386972\n"
     ]
    }
   ],
   "metadata": {}
  },
  {
   "cell_type": "markdown",
   "source": [
    "#### b. Using expected mean, covariance matrix and parametric method, calculate VaR95% and CVaR95%"
   ],
   "metadata": {}
  },
  {
   "cell_type": "code",
   "execution_count": 26,
   "source": [
    "portfolio.head()"
   ],
   "outputs": [
    {
     "output_type": "execute_result",
     "data": {
      "text/plain": [
       "        date      aapl       ibm      goog        bp       xom      cost  \\\n",
       "0 2016-01-04       NaN       NaN       NaN       NaN       NaN       NaN   \n",
       "1 2016-01-05 -0.025057 -0.000736  0.000998 -0.004185  0.008521  0.002445   \n",
       "2 2016-01-06 -0.019470 -0.005006  0.001401 -0.020369 -0.008321 -0.009254   \n",
       "3 2016-01-07 -0.042494 -0.017090 -0.023170 -0.028713 -0.016006 -0.022909   \n",
       "4 2016-01-08  0.005392 -0.009258 -0.016410 -0.017669 -0.020202 -0.017504   \n",
       "\n",
       "         gs  \n",
       "0       NaN  \n",
       "1 -0.017218  \n",
       "2 -0.024413  \n",
       "3 -0.030735  \n",
       "4 -0.004131  "
      ],
      "text/html": [
       "<div>\n",
       "<style scoped>\n",
       "    .dataframe tbody tr th:only-of-type {\n",
       "        vertical-align: middle;\n",
       "    }\n",
       "\n",
       "    .dataframe tbody tr th {\n",
       "        vertical-align: top;\n",
       "    }\n",
       "\n",
       "    .dataframe thead th {\n",
       "        text-align: right;\n",
       "    }\n",
       "</style>\n",
       "<table border=\"1\" class=\"dataframe\">\n",
       "  <thead>\n",
       "    <tr style=\"text-align: right;\">\n",
       "      <th></th>\n",
       "      <th>date</th>\n",
       "      <th>aapl</th>\n",
       "      <th>ibm</th>\n",
       "      <th>goog</th>\n",
       "      <th>bp</th>\n",
       "      <th>xom</th>\n",
       "      <th>cost</th>\n",
       "      <th>gs</th>\n",
       "    </tr>\n",
       "  </thead>\n",
       "  <tbody>\n",
       "    <tr>\n",
       "      <th>0</th>\n",
       "      <td>2016-01-04</td>\n",
       "      <td>NaN</td>\n",
       "      <td>NaN</td>\n",
       "      <td>NaN</td>\n",
       "      <td>NaN</td>\n",
       "      <td>NaN</td>\n",
       "      <td>NaN</td>\n",
       "      <td>NaN</td>\n",
       "    </tr>\n",
       "    <tr>\n",
       "      <th>1</th>\n",
       "      <td>2016-01-05</td>\n",
       "      <td>-0.025057</td>\n",
       "      <td>-0.000736</td>\n",
       "      <td>0.000998</td>\n",
       "      <td>-0.004185</td>\n",
       "      <td>0.008521</td>\n",
       "      <td>0.002445</td>\n",
       "      <td>-0.017218</td>\n",
       "    </tr>\n",
       "    <tr>\n",
       "      <th>2</th>\n",
       "      <td>2016-01-06</td>\n",
       "      <td>-0.019470</td>\n",
       "      <td>-0.005006</td>\n",
       "      <td>0.001401</td>\n",
       "      <td>-0.020369</td>\n",
       "      <td>-0.008321</td>\n",
       "      <td>-0.009254</td>\n",
       "      <td>-0.024413</td>\n",
       "    </tr>\n",
       "    <tr>\n",
       "      <th>3</th>\n",
       "      <td>2016-01-07</td>\n",
       "      <td>-0.042494</td>\n",
       "      <td>-0.017090</td>\n",
       "      <td>-0.023170</td>\n",
       "      <td>-0.028713</td>\n",
       "      <td>-0.016006</td>\n",
       "      <td>-0.022909</td>\n",
       "      <td>-0.030735</td>\n",
       "    </tr>\n",
       "    <tr>\n",
       "      <th>4</th>\n",
       "      <td>2016-01-08</td>\n",
       "      <td>0.005392</td>\n",
       "      <td>-0.009258</td>\n",
       "      <td>-0.016410</td>\n",
       "      <td>-0.017669</td>\n",
       "      <td>-0.020202</td>\n",
       "      <td>-0.017504</td>\n",
       "      <td>-0.004131</td>\n",
       "    </tr>\n",
       "  </tbody>\n",
       "</table>\n",
       "</div>"
      ]
     },
     "metadata": {},
     "execution_count": 26
    }
   ],
   "metadata": {}
  },
  {
   "cell_type": "code",
   "execution_count": 6,
   "source": [
    "# cov matrix\r\n",
    "cov_mat = portfolio.set_index('date').cov()\r\n",
    "\r\n",
    "# avg returns\r\n",
    "avg_ret = portfolio.set_index('date').mean()\r\n",
    "\r\n",
    "portfolio_mean = avg_ret.dot(weights)\r\n",
    "\r\n",
    "# portfolio std dev\r\n",
    "portfolio_sd = np.sqrt(weights.T.dot(cov_mat).dot(weights))\r\n",
    "\r\n",
    "# mean of investment\r\n"
   ],
   "outputs": [],
   "metadata": {}
  },
  {
   "cell_type": "code",
   "execution_count": 7,
   "source": [
    "portfolio_mean"
   ],
   "outputs": [
    {
     "output_type": "execute_result",
     "data": {
      "text/plain": [
       "0.0005788264849869774"
      ]
     },
     "metadata": {},
     "execution_count": 7
    }
   ],
   "metadata": {}
  },
  {
   "cell_type": "code",
   "execution_count": 13,
   "source": [
    "# function to return stats of portfolio\r\n",
    "def stats(df):\r\n",
    "    df['date'] = pd.to_datetime(df['date'], format='%d/%m/%Y')\r\n",
    "    df.set_index('date', inplace=True)\r\n",
    "\r\n",
    "    # calculate returns\r\n",
    "    returns = df.pct_change(1)\r\n",
    "    returns.dropna(axis=0, inplace=True)\r\n",
    "    cov_mat = returns.cov()\r\n",
    "    return returns, cov_mat"
   ],
   "outputs": [],
   "metadata": {}
  },
  {
   "cell_type": "code",
   "execution_count": 21,
   "source": [
    "def historical_var(returns, alpha=5):\r\n",
    "    return np.percentile(returns, alpha)"
   ],
   "outputs": [],
   "metadata": {}
  },
  {
   "cell_type": "code",
   "execution_count": 19,
   "source": [
    "historic_var"
   ],
   "outputs": [
    {
     "output_type": "execute_result",
     "data": {
      "text/plain": [
       "-0.014251755882693262"
      ]
     },
     "metadata": {},
     "execution_count": 19
    }
   ],
   "metadata": {}
  },
  {
   "cell_type": "code",
   "execution_count": 20,
   "source": [
    "portfolio_returns.aggregate(historic_var, 5)"
   ],
   "outputs": [
    {
     "output_type": "error",
     "ename": "AttributeError",
     "evalue": "'numpy.ndarray' object has no attribute 'aggregate'",
     "traceback": [
      "\u001b[1;31m---------------------------------------------------------------------------\u001b[0m",
      "\u001b[1;31mAttributeError\u001b[0m                            Traceback (most recent call last)",
      "\u001b[1;32m<ipython-input-20-732ecb67e29b>\u001b[0m in \u001b[0;36m<module>\u001b[1;34m\u001b[0m\n\u001b[1;32m----> 1\u001b[1;33m \u001b[0mportfolio_returns\u001b[0m\u001b[1;33m.\u001b[0m\u001b[0maggregate\u001b[0m\u001b[1;33m(\u001b[0m\u001b[0mhistoric_var\u001b[0m\u001b[1;33m,\u001b[0m \u001b[1;36m5\u001b[0m\u001b[1;33m)\u001b[0m\u001b[1;33m\u001b[0m\u001b[1;33m\u001b[0m\u001b[0m\n\u001b[0m",
      "\u001b[1;31mAttributeError\u001b[0m: 'numpy.ndarray' object has no attribute 'aggregate'"
     ]
    }
   ],
   "metadata": {}
  },
  {
   "cell_type": "code",
   "execution_count": null,
   "source": [],
   "outputs": [],
   "metadata": {}
  }
 ],
 "metadata": {
  "orig_nbformat": 4,
  "language_info": {
   "name": "python",
   "version": "3.8.3",
   "mimetype": "text/x-python",
   "codemirror_mode": {
    "name": "ipython",
    "version": 3
   },
   "pygments_lexer": "ipython3",
   "nbconvert_exporter": "python",
   "file_extension": ".py"
  },
  "kernelspec": {
   "name": "python3",
   "display_name": "Python 3.8.3 64-bit ('base': conda)"
  },
  "interpreter": {
   "hash": "40c2980615d13c3d759b4854f488292a7019b67194fb6386b111c8c4efb647e4"
  }
 },
 "nbformat": 4,
 "nbformat_minor": 2
}