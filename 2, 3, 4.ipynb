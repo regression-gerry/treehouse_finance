{
 "cells": [
  {
   "cell_type": "code",
   "execution_count": 1,
   "source": [
    "## Libraries\r\n",
    "import pandas as pd\r\n",
    "import numpy as np\r\n",
    "import scipy, scipy.stats"
   ],
   "outputs": [],
   "metadata": {}
  },
  {
   "cell_type": "markdown",
   "source": [
    "### 2. Write a function ‘exists’ which takes a variable symbol v and returns whether v is defined."
   ],
   "metadata": {}
  },
  {
   "cell_type": "code",
   "execution_count": 36,
   "source": [
    "try:\r\n",
    "    var\r\n",
    "except NameError:\r\n",
    "    print('v is not defined')\r\n",
    "else:\r\n",
    "    print(\"exists\")"
   ],
   "outputs": [
    {
     "output_type": "stream",
     "name": "stdout",
     "text": [
      "v is not defined\n"
     ]
    }
   ],
   "metadata": {}
  },
  {
   "cell_type": "markdown",
   "source": [
    "### 3. Create a function to compute N layer of a Pascal Triangle. "
   ],
   "metadata": {}
  },
  {
   "cell_type": "code",
   "execution_count": 37,
   "source": [
    "def pascal_triangle(n):\r\n",
    "    pascal = [[1]*(i+1) for i in range(n)] # set the initial layer\r\n",
    "    \r\n",
    "    # O(n^2)\r\n",
    "    for i in range(n):\r\n",
    "        for j in range(1,i):\r\n",
    "            pascal[i][j] = pascal[i-1][j-1] + pascal[i-1][j]\r\n",
    "    return pascal"
   ],
   "outputs": [],
   "metadata": {}
  },
  {
   "cell_type": "code",
   "execution_count": 38,
   "source": [
    "# test cases for pascal triangle\r\n",
    "pascal_triangle(10)\r\n",
    "# pascal_triangle(20)"
   ],
   "outputs": [
    {
     "output_type": "execute_result",
     "data": {
      "text/plain": [
       "[[1],\n",
       " [1, 1],\n",
       " [1, 2, 1],\n",
       " [1, 3, 3, 1],\n",
       " [1, 4, 6, 4, 1],\n",
       " [1, 5, 10, 10, 5, 1],\n",
       " [1, 6, 15, 20, 15, 6, 1],\n",
       " [1, 7, 21, 35, 35, 21, 7, 1],\n",
       " [1, 8, 28, 56, 70, 56, 28, 8, 1],\n",
       " [1, 9, 36, 84, 126, 126, 84, 36, 9, 1]]"
      ]
     },
     "metadata": {},
     "execution_count": 38
    }
   ],
   "metadata": {}
  },
  {
   "cell_type": "markdown",
   "source": [
    "### 4. Assume have the following portfolio as of 2016/01/01:\r\n",
    "    AAPL.O 15%\r\n",
    "    IBM.N 20%\r\n",
    "    GOOG.O 20%\r\n",
    "    BP.N 15%\r\n",
    "    XOM.N 10%\r\n",
    "    COST.O 15%\r\n",
    "    GS.N 5%\r\n",
    "\r\n",
    "a. Using historical daily returns (Yahoo/Google Finance or any other market data\r\n",
    "source), calculate VaR95% and CVaR95% of the portfolio as of 2016/12/31\r\n",
    "\r\n",
    "b. Using expected mean, covariance matrix and parametric method, calculate VaR95%\r\n",
    "and CVaR95%\r\n",
    "\r\n",
    "c. Assume you can change weights, allow shorting but no leverage (i.e. sum of weights\r\n",
    "equal 100%), and rebalance monthly. What is the optimal portfolio holding by end of\r\n",
    "each month till end of 2016\r\n",
    "Notes: If you have other assumption(s) please state clearly"
   ],
   "metadata": {}
  },
  {
   "cell_type": "markdown",
   "source": [
    "#### a. Using historical daily returns (Yahoo/Google Finance or any other market data source), calculate VaR95% and CVaR95% of the portfolio as of 2016/12/31"
   ],
   "metadata": {}
  },
  {
   "cell_type": "code",
   "execution_count": 34,
   "source": [
    "portfolio = pd.read_csv('portfolio.csv')\r\n",
    "portfolio['date'] = pd.to_datetime(portfolio['date'], format='%d/%m/%Y')\r\n",
    "\r\n",
    "# calculate returns\r\n",
    "returns = portfolio.set_index('date', inplace=True)\r\n",
    "returns = portfolio.pct_change(1)\r\n",
    "returns.dropna(axis=0, inplace=True)\r\n",
    "\r\n",
    "# portfolio weights\r\n",
    "weights = np.array([.15, .2, .2, .15, .1, .15, .05])\r\n",
    "\r\n",
    "# covariance\r\n",
    "cov = returns.cov()\r\n",
    "\r\n",
    "# find the portfolio returns with weights\r\n",
    "portfolio_returns = (weights * returns.values).sum(axis=1)\r\n",
    "\r\n",
    "# portfolio std dev\r\n",
    "portfolio_sd = np.sqrt(weights.T.dot(cov).dot(weights))"
   ],
   "outputs": [],
   "metadata": {}
  },
  {
   "cell_type": "code",
   "execution_count": 17,
   "source": [
    "# VaR95% and CVaR95%\r\n",
    "def historical_var(returns, alpha=5):\r\n",
    "    return np.percentile(portfolio_returns, alpha)\r\n",
    "\r\n",
    "def historical_cvar(returns, alpha=5):\r\n",
    "    below_var = returns <= historical_var(returns, alpha=alpha)\r\n",
    "    return returns[below_var].mean()"
   ],
   "outputs": [],
   "metadata": {}
  },
  {
   "cell_type": "code",
   "execution_count": 18,
   "source": [
    "days = 1\r\n",
    "investment = 100000\r\n",
    "var95 = round(-historical_var(portfolio_returns, alpha=5)*np.sqrt(1)*investment, 2)\r\n",
    "cvar95 = round(-historical_cvar(portfolio_returns, alpha=5)*np.sqrt(1)*investment, 2)\r\n",
    "\r\n",
    "print('The VaR95% for a day with an investment of $100 000 is ${}'.format(var95))\r\n",
    "print('The CVaR95% for a day with an investment of $100 000 is ${}'.format(cvar95))"
   ],
   "outputs": [
    {
     "output_type": "stream",
     "name": "stdout",
     "text": [
      "The VaR95% for a day with an investment of $100 000 is $1425.18\n",
      "The CVaR95% for a day with an investment of $100 000 is $2126.64\n"
     ]
    }
   ],
   "metadata": {}
  },
  {
   "cell_type": "markdown",
   "source": [
    "#### b. Using expected mean, covariance matrix and parametric method, calculate VaR95% and CVaR95%"
   ],
   "metadata": {}
  },
  {
   "cell_type": "code",
   "execution_count": 24,
   "source": [
    "# parametric functions for normal and t distribution\r\n",
    "\r\n",
    "def var_parametric(portofolioReturns, portfolioStd, distribution='normal', alpha=5, dof=6):\r\n",
    "    # because the distribution is symmetric\r\n",
    "    if distribution == 'normal':\r\n",
    "        VaR = scipy.stats.norm.ppf(1-alpha/100)*portfolioStd - portofolioReturns\r\n",
    "    elif distribution == 't':\r\n",
    "        # set degrees of freedom\r\n",
    "        nu = dof\r\n",
    "        VaR = np.sqrt((nu-2)/nu) * scipy.stats.t.ppf(1-alpha/100, nu) * portfolioStd - portofolioReturns\r\n",
    "    return VaR\r\n",
    "\r\n",
    "def cvar_parametric(portofolioReturns, portfolioStd, distribution='normal', alpha=5, dof=6):\r\n",
    "    if distribution == 'normal':\r\n",
    "        CVaR = (alpha/100)**-1 * scipy.stats.norm.pdf(scipy.stats.norm.ppf(alpha/100))*portfolioStd - portofolioReturns\r\n",
    "    elif distribution == 't':\r\n",
    "        # set degrees of freedom\r\n",
    "        nu = dof\r\n",
    "        xanu = scipy.stats.t.ppf(alpha/100, nu)\r\n",
    "        CVaR = -1/(alpha/100) * (1-nu)**(-1) * (nu-2+xanu**2) * scipy.stats.t.pdf(xanu, nu) * portfolioStd - portofolioReturns\r\n",
    "    return CVaR"
   ],
   "outputs": [],
   "metadata": {}
  },
  {
   "cell_type": "code",
   "execution_count": 23,
   "source": [
    "var95_parametric_normal = round(var_parametric(portfolio_returns[-1], portfolio_sd)*np.sqrt(1)*investment, 2)\r\n",
    "cvar95_parametric_normal = round(cvar_parametric(portfolio_returns[-1], portfolio_sd)*np.sqrt(1)*investment, 2)\r\n",
    "\r\n",
    "var95_parametric_t = round(var_parametric(portfolio_returns[-1], portfolio_sd, distribution='t')*np.sqrt(1)*investment, 2)\r\n",
    "cvar95_parametric_t = round(cvar_parametric(portfolio_returns[-1], portfolio_sd, distribution='t')*np.sqrt(1)*investment, 2)"
   ],
   "outputs": [],
   "metadata": {}
  },
  {
   "cell_type": "code",
   "execution_count": 21,
   "source": [
    "print('The normal-distributed parametric VaR95% for a day with an investment of $100 000 is ${}'.format(var95_parametric_normal))\r\n",
    "print('The normal-distributed parametric CVaR95% for a day with an investment of $100 000 is ${}'.format(cvar95_parametric_normal))\r\n",
    "\r\n",
    "print('The t-distributed parametric VaR95% for a day with an investment of $100 000 is ${}'.format(var95_parametric_t))\r\n",
    "print('The t-distributed parametric CVaR95% for a day with an investment of $100 000 is ${}'.format(cvar95_parametric_t))"
   ],
   "outputs": [
    {
     "output_type": "stream",
     "name": "stdout",
     "text": [
      "The normal-distributed parametric VaR95% for a day with an investment of $100 000 is $2045.37\n",
      "The normal-distributed parametric CVaR95% for a day with an investment of $100 000 is $2424.52\n",
      "The t-distributed parametric VaR95% for a day with an investment of $100 000 is $1992.51\n",
      "The t-distributed parametric CVaR95% for a day with an investment of $100 000 is $2509.32\n"
     ]
    }
   ],
   "metadata": {}
  },
  {
   "cell_type": "markdown",
   "source": [
    "#### c. Assume you can change weights, allow shorting but no leverage (i.e. sum of weights equal 100%), and rebalance monthly. What is the optimal portfolio holding by end of each month till end of 2016 Notes: If you have other assumption(s) please state clearly"
   ],
   "metadata": {}
  },
  {
   "cell_type": "code",
   "execution_count": 42,
   "source": [
    "## we use monthly rebalancing on portfolio weights based on sharpe ratio for optimisation\r\n",
    "\r\n",
    "def calc_neg_sharpe(weights, mean_returns, cov, rf):\r\n",
    "    portfolio_return = np.sum(mean_returns * weights) * 252\r\n",
    "    portfolio_std = np.sqrt(np.dot(weights.T, np.dot(cov, weights))) * np.sqrt(252)\r\n",
    "    sharpe_ratio = (portfolio_return - rf) / portfolio_std\r\n",
    "    return -sharpe_ratio\r\n",
    "\r\n",
    "# constraints \r\n",
    "constraints = ({'type': 'eq', 'fun': lambda x: np.sum(x) - 1})\r\n",
    "\r\n",
    "def max_sharpe_ratio(mean_returns, cov, rf):\r\n",
    "    num_assets = len(mean_returns)\r\n",
    "    args = (mean_returns, cov, rf)\r\n",
    "    constraints = ({'type': 'eq', 'fun': lambda x: np.sum(x) - 1})\r\n",
    "    bound = (0.0,1.0)\r\n",
    "    bounds = tuple(bound for asset in range(num_assets))\r\n",
    "    result = scipy.optimize.minimize(calc_neg_sharpe, num_assets*[1./num_assets,], args=args,\r\n",
    "                        method='SLSQP', bounds=bounds, constraints=constraints)\r\n",
    "    return result"
   ],
   "outputs": [],
   "metadata": {}
  },
  {
   "cell_type": "code",
   "execution_count": 40,
   "source": [
    "# split the df into monthly\r\n",
    "df = pd.read_csv('portfolio.csv')\r\n",
    "df['date'] = pd.to_datetime(df['date'], format='%d/%m/%Y')\r\n",
    "df.iloc[:, 1:8] = df.iloc[:, 1:8].pct_change()\r\n",
    "df.dropna(axis=0, inplace=True)\r\n",
    "\r\n",
    "# split into monthly\r\n",
    "g = df.groupby(pd.Grouper(key='date', freq='M'))\r\n",
    "# # groups to a list of dataframes with list comprehension\r\n",
    "dfs = [group for _,group in g]"
   ],
   "outputs": [],
   "metadata": {}
  },
  {
   "cell_type": "code",
   "execution_count": 53,
   "source": [
    "tickers = ['aapl', 'ibm', 'goog', 'bp', 'xom', 'cost', 'gs']\r\n",
    "results = pd.DataFrame()\r\n",
    "\r\n",
    "# iterate through each month to get the optimal weights\r\n",
    "for month in dfs:\r\n",
    "    mean_returns = month.iloc[:, 1:8].mean()\r\n",
    "    cov = month.iloc[:, 1:8].cov()\r\n",
    "    optimal_port_sharpe = max_sharpe_ratio(mean_returns, cov, 0.05)\r\n",
    "    results = results.append(pd.DataFrame([round(x,2) for x in optimal_port_sharpe['x']],index=tickers).T)"
   ],
   "outputs": [],
   "metadata": {}
  },
  {
   "cell_type": "code",
   "execution_count": 54,
   "source": [
    "results['month'] = ['jan', 'feb', 'march', 'apr', 'may', 'jun', 'jul', 'aug', 'sep', 'oct', 'nov', 'dec']\r\n",
    "results.set_index('month', inplace=True)\r\n",
    "results"
   ],
   "outputs": [
    {
     "output_type": "execute_result",
     "data": {
      "text/plain": [
       "       aapl   ibm  goog    bp   xom  cost    gs\n",
       "month                                          \n",
       "jan    0.00  0.00  0.00  1.00  0.00  0.00  0.00\n",
       "feb    0.00  0.75  0.00  0.00  0.25  0.00  0.00\n",
       "march  0.16  0.53  0.00  0.00  0.00  0.30  0.00\n",
       "apr    0.00  0.00  0.00  0.12  0.88  0.00  0.00\n",
       "may    0.34  0.00  0.66  0.00  0.00  0.00  0.00\n",
       "jun    0.00  0.00  0.00  0.18  0.00  0.82  0.00\n",
       "jul    0.09  0.39  0.38  0.00  0.00  0.14  0.00\n",
       "aug    0.00  0.00  0.00  0.00  0.00  0.00  1.00\n",
       "sep    0.62  0.00  0.00  0.38  0.00  0.00  0.00\n",
       "oct    0.00  0.00  0.00  0.00  0.00  0.00  1.00\n",
       "nov    0.12  0.25  0.00  0.00  0.00  0.00  0.64\n",
       "dec    0.33  0.00  0.00  0.46  0.00  0.00  0.21"
      ],
      "text/html": [
       "<div>\n",
       "<style scoped>\n",
       "    .dataframe tbody tr th:only-of-type {\n",
       "        vertical-align: middle;\n",
       "    }\n",
       "\n",
       "    .dataframe tbody tr th {\n",
       "        vertical-align: top;\n",
       "    }\n",
       "\n",
       "    .dataframe thead th {\n",
       "        text-align: right;\n",
       "    }\n",
       "</style>\n",
       "<table border=\"1\" class=\"dataframe\">\n",
       "  <thead>\n",
       "    <tr style=\"text-align: right;\">\n",
       "      <th></th>\n",
       "      <th>aapl</th>\n",
       "      <th>ibm</th>\n",
       "      <th>goog</th>\n",
       "      <th>bp</th>\n",
       "      <th>xom</th>\n",
       "      <th>cost</th>\n",
       "      <th>gs</th>\n",
       "    </tr>\n",
       "    <tr>\n",
       "      <th>month</th>\n",
       "      <th></th>\n",
       "      <th></th>\n",
       "      <th></th>\n",
       "      <th></th>\n",
       "      <th></th>\n",
       "      <th></th>\n",
       "      <th></th>\n",
       "    </tr>\n",
       "  </thead>\n",
       "  <tbody>\n",
       "    <tr>\n",
       "      <th>jan</th>\n",
       "      <td>0.00</td>\n",
       "      <td>0.00</td>\n",
       "      <td>0.00</td>\n",
       "      <td>1.00</td>\n",
       "      <td>0.00</td>\n",
       "      <td>0.00</td>\n",
       "      <td>0.00</td>\n",
       "    </tr>\n",
       "    <tr>\n",
       "      <th>feb</th>\n",
       "      <td>0.00</td>\n",
       "      <td>0.75</td>\n",
       "      <td>0.00</td>\n",
       "      <td>0.00</td>\n",
       "      <td>0.25</td>\n",
       "      <td>0.00</td>\n",
       "      <td>0.00</td>\n",
       "    </tr>\n",
       "    <tr>\n",
       "      <th>march</th>\n",
       "      <td>0.16</td>\n",
       "      <td>0.53</td>\n",
       "      <td>0.00</td>\n",
       "      <td>0.00</td>\n",
       "      <td>0.00</td>\n",
       "      <td>0.30</td>\n",
       "      <td>0.00</td>\n",
       "    </tr>\n",
       "    <tr>\n",
       "      <th>apr</th>\n",
       "      <td>0.00</td>\n",
       "      <td>0.00</td>\n",
       "      <td>0.00</td>\n",
       "      <td>0.12</td>\n",
       "      <td>0.88</td>\n",
       "      <td>0.00</td>\n",
       "      <td>0.00</td>\n",
       "    </tr>\n",
       "    <tr>\n",
       "      <th>may</th>\n",
       "      <td>0.34</td>\n",
       "      <td>0.00</td>\n",
       "      <td>0.66</td>\n",
       "      <td>0.00</td>\n",
       "      <td>0.00</td>\n",
       "      <td>0.00</td>\n",
       "      <td>0.00</td>\n",
       "    </tr>\n",
       "    <tr>\n",
       "      <th>jun</th>\n",
       "      <td>0.00</td>\n",
       "      <td>0.00</td>\n",
       "      <td>0.00</td>\n",
       "      <td>0.18</td>\n",
       "      <td>0.00</td>\n",
       "      <td>0.82</td>\n",
       "      <td>0.00</td>\n",
       "    </tr>\n",
       "    <tr>\n",
       "      <th>jul</th>\n",
       "      <td>0.09</td>\n",
       "      <td>0.39</td>\n",
       "      <td>0.38</td>\n",
       "      <td>0.00</td>\n",
       "      <td>0.00</td>\n",
       "      <td>0.14</td>\n",
       "      <td>0.00</td>\n",
       "    </tr>\n",
       "    <tr>\n",
       "      <th>aug</th>\n",
       "      <td>0.00</td>\n",
       "      <td>0.00</td>\n",
       "      <td>0.00</td>\n",
       "      <td>0.00</td>\n",
       "      <td>0.00</td>\n",
       "      <td>0.00</td>\n",
       "      <td>1.00</td>\n",
       "    </tr>\n",
       "    <tr>\n",
       "      <th>sep</th>\n",
       "      <td>0.62</td>\n",
       "      <td>0.00</td>\n",
       "      <td>0.00</td>\n",
       "      <td>0.38</td>\n",
       "      <td>0.00</td>\n",
       "      <td>0.00</td>\n",
       "      <td>0.00</td>\n",
       "    </tr>\n",
       "    <tr>\n",
       "      <th>oct</th>\n",
       "      <td>0.00</td>\n",
       "      <td>0.00</td>\n",
       "      <td>0.00</td>\n",
       "      <td>0.00</td>\n",
       "      <td>0.00</td>\n",
       "      <td>0.00</td>\n",
       "      <td>1.00</td>\n",
       "    </tr>\n",
       "    <tr>\n",
       "      <th>nov</th>\n",
       "      <td>0.12</td>\n",
       "      <td>0.25</td>\n",
       "      <td>0.00</td>\n",
       "      <td>0.00</td>\n",
       "      <td>0.00</td>\n",
       "      <td>0.00</td>\n",
       "      <td>0.64</td>\n",
       "    </tr>\n",
       "    <tr>\n",
       "      <th>dec</th>\n",
       "      <td>0.33</td>\n",
       "      <td>0.00</td>\n",
       "      <td>0.00</td>\n",
       "      <td>0.46</td>\n",
       "      <td>0.00</td>\n",
       "      <td>0.00</td>\n",
       "      <td>0.21</td>\n",
       "    </tr>\n",
       "  </tbody>\n",
       "</table>\n",
       "</div>"
      ]
     },
     "metadata": {},
     "execution_count": 54
    }
   ],
   "metadata": {}
  },
  {
   "cell_type": "code",
   "execution_count": null,
   "source": [],
   "outputs": [],
   "metadata": {}
  }
 ],
 "metadata": {
  "orig_nbformat": 4,
  "language_info": {
   "name": "python",
   "version": "3.7.7",
   "mimetype": "text/x-python",
   "codemirror_mode": {
    "name": "ipython",
    "version": 3
   },
   "pygments_lexer": "ipython3",
   "nbconvert_exporter": "python",
   "file_extension": ".py"
  },
  "kernelspec": {
   "name": "python3",
   "display_name": "Python 3.7.7 64-bit ('base': conda)"
  },
  "interpreter": {
   "hash": "bd0568d8647bfe2c5b59c81f47863eb65b413eeef312764b5149d804a4a00697"
  }
 },
 "nbformat": 4,
 "nbformat_minor": 2
}